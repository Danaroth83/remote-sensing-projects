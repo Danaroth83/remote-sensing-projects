{
 "cells": [
  {
   "cell_type": "markdown",
   "id": "b27d6396",
   "metadata": {},
   "source": [
    "# The first time to create your working environment\n",
    "\n",
    "1) Connect yourself to Jupyterhub at `https://jupyterhub.u-ga.fr/` with your Agalan information\n",
    "\n",
    "2) Open a new notebook Jupyter: `New (up right) -> Python 3`\n",
    "\n",
    "3) In the cell paste `! git clone https://gricad-gitlab.univ-grenoble-alpes.fr/dallamum/remote-sensing-projects`\n",
    "This command will do a copy/paste of the git repository of the project on your own Jupyterhub environment\n",
    "\n",
    "4) Add different packages you will need (copy/paste this command in a cell of the notebook you created at point 2)): \n",
    "- `! pip install scikit-image`\n",
    "- `! pip install opencv-python `\n",
    "\n",
    "5) Create your working branch in your Terminal (`New` -> `Terminal` (last in the bottom)). In the terminal: \n",
    "- Go the right folder using `cd notebooks/remote-sensing-projects/`\n",
    "\n",
    "- Create the branch `development` where you will development your project (NEVER work in the branch master) using\n",
    "`git checkout development`\n",
    "\n",
    "- You can check with `git branch` which branches are in your project (will be listed) and in which one you are (the one in green with the `*`)\n",
    "\n",
    "6) When you are in the `development` branch, you will create your data, codes and results folders: `mkdir Data`, `mkdir src` and `mkdir ImportantResults`\n",
    "\n",
    "Your `Data` folder will probably be quite large, to avoid putting too much storage in the git, you should explain to git that this folder will **NEVER** be pushed on the git repository (every persons of the group should have it locally). \n",
    "- `git config --global core.excludesFile ~/.gitignore`\n",
    "- `cat .gitignore **/.ipynb_checkpoints/`\n",
    "\n",
    "7) In your Home Jupyter (at the beginning of your tree folders), you will create a new folder for your results. \n",
    "- use `cd ..` and then `mkdir Results`\n",
    "- In your future code, you will need to think about directing your output to this folder (`outpath:\"...\"`)\n",
    "\n",
    "This folder will be only locally to save your results (because you will probably try a lot of stuffs and have then lot of partial results). When you will want to share your important results with your group, just choose which result you want to share and put it in the folder \"ImportantResults\" of your git repository. "
   ]
  },
  {
   "cell_type": "markdown",
   "id": "b14a976a",
   "metadata": {},
   "source": [
    "# Every time you begin to work on your Jupyterhub environment  \n",
    "\n",
    "Check in which branch you are `git branch` (the one in green with the `*`)\n",
    "- If you are not in the `development` one, use `git checkout development` to go in it\n",
    "- You can check again if you are now in the good one"
   ]
  },
  {
   "cell_type": "markdown",
   "id": "33ffd18b",
   "metadata": {},
   "source": [
    "# When changes have been made and you want to upload them to the git on your working branch\n",
    "\n",
    "In JupyterHub (at the beginning of your folder tree), open a Terminal (`New` -> `Terminal` (last in the bottom)). In the terminal: \n",
    "\n",
    "1) Go the right folder using `cd notebooks/remote-sensing-projects/`\n",
    "\n",
    "2) Be sure to be in the `development` branch using `git checkout development`\n",
    "\n",
    "3) You now need to make the folder you are in understand that the new files/folders you have created are files you want to put in the git. There are two ways to do this: \n",
    "- You want to add to git **ALL** your documents: `git add .`\n",
    "- You want to add to git only certain files or folders: `git add filename.extension` (do this for all files) or `git add <FOLDER>/*` (to add a folder and all the files in it, do this for all the folders you want)\n",
    "\n",
    "4) You will now make a \"version\" with all these documents that you want to put under git: `git commit -m \"Put a comment explaining what you put in git\"`\n",
    "\n",
    "5) You can now upload it to your branch in the git: `git push`\n",
    "\n",
    "### Be carefull to use `git pull` sometime to also have your colleagues works locally and be up-to-date with your project (see the tutorials about using git we gave you at the beginning of the project)"
   ]
  },
  {
   "cell_type": "code",
   "execution_count": null,
   "id": "cf814f19",
   "metadata": {},
   "outputs": [],
   "source": []
  }
 ],
 "metadata": {
  "kernelspec": {
   "display_name": "Python 3",
   "language": "python",
   "name": "python3"
  },
  "language_info": {
   "codemirror_mode": {
    "name": "ipython",
    "version": 3
   },
   "file_extension": ".py",
   "mimetype": "text/x-python",
   "name": "python",
   "nbconvert_exporter": "python",
   "pygments_lexer": "ipython3",
   "version": "3.8.5"
  }
 },
 "nbformat": 4,
 "nbformat_minor": 5
}
